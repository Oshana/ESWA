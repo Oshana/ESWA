{
 "cells": [
  {
   "cell_type": "code",
   "execution_count": null,
   "id": "c2a06e72",
   "metadata": {},
   "outputs": [],
   "source": [
    "import sys\n",
    "sys.path.append('../../')"
   ]
  },
  {
   "cell_type": "code",
   "execution_count": 2,
   "id": "b9160c78",
   "metadata": {},
   "outputs": [],
   "source": [
    "import pandas as pd\n",
    "import pickle\n",
    "import numpy as np\n",
    "from holsteinlib import functions\n",
    "\n",
    "# MiniRocket\n",
    "from sktime.transformations.panel.rocket import MiniRocketMultivariateVariable"
   ]
  },
  {
   "cell_type": "code",
   "execution_count": 3,
   "id": "0c2ba8b9",
   "metadata": {},
   "outputs": [],
   "source": [
    "def duplicate_check(arr_1, arr_2):\n",
    "    set_arr_2 = set(arr_2)\n",
    "    \n",
    "    for x in arr_1:\n",
    "        if x in set_arr_2:\n",
    "            return True\n",
    "    \n",
    "    return False"
   ]
  },
  {
   "cell_type": "code",
   "execution_count": 4,
   "id": "d92957d5",
   "metadata": {},
   "outputs": [],
   "source": [
    "def get_data(calf_id):\n",
    "    \n",
    "    X,y = functions.combine_class_data(window_dataset[calf_id])\n",
    "        \n",
    "    return X, y"
   ]
  },
  {
   "cell_type": "code",
   "execution_count": 5,
   "id": "50f88db2",
   "metadata": {},
   "outputs": [],
   "source": [
    "dataset_path = '../../Datasets/SixBehaviourClassification/six_label_window_dataset_v1.pickle'\n",
    "calf_set_info_path = '../../Datasets/SixBehaviourClassification/six_label_calf_split_info.pkl'\n",
    "\n",
    "feature_data_save_parent_path = '../../Datasets/SixBehaviourClassification/ROCKET/'\n",
    "per_calf_data_index_in_X_train_save_path = '../../Datasets/SixBehaviourClassification/ROCKET/'"
   ]
  },
  {
   "cell_type": "code",
   "execution_count": 6,
   "id": "a64396f3",
   "metadata": {},
   "outputs": [],
   "source": [
    "# dataset\n",
    "with open(dataset_path, 'rb') as f:\n",
    "    window_dataset = pickle.load(f)\n",
    "    \n",
    "# calf train:valid:test set information\n",
    "with open(calf_set_info_path, 'rb') as f:\n",
    "    calf_set_info = pickle.load(f)"
   ]
  },
  {
   "cell_type": "code",
   "execution_count": 7,
   "id": "51c875b3",
   "metadata": {},
   "outputs": [
    {
     "data": {
      "text/plain": [
       "dict_keys(['all_calves', 'test_calves', 'valid_calf_id_sets'])"
      ]
     },
     "execution_count": 7,
     "metadata": {},
     "output_type": "execute_result"
    }
   ],
   "source": [
    "calf_set_info.keys()"
   ]
  },
  {
   "cell_type": "code",
   "execution_count": 8,
   "id": "875b35c8",
   "metadata": {},
   "outputs": [],
   "source": [
    "all_calf_ids = calf_set_info['all_calves']\n",
    "test_calf_ids = calf_set_info['test_calves']\n",
    "\n",
    "total_train_calf_ids = [calf for calf in all_calf_ids if not calf in test_calf_ids]"
   ]
  },
  {
   "cell_type": "markdown",
   "id": "03c9f991",
   "metadata": {},
   "source": [
    "# Feature Generation"
   ]
  },
  {
   "cell_type": "markdown",
   "id": "2248d4a6",
   "metadata": {},
   "source": [
    "## Combine Train Data"
   ]
  },
  {
   "cell_type": "code",
   "execution_count": 9,
   "id": "cd8e149f",
   "metadata": {},
   "outputs": [],
   "source": [
    "X_train, y_train = [], []\n",
    "\n",
    "calf_X_train_indexes = {}\n",
    "\n",
    "index_tracker = 0\n",
    "\n",
    "for calf_id in all_calf_ids:\n",
    "    if calf_id not in test_calf_ids:\n",
    "        sub_X, sub_y = get_data(calf_id)\n",
    "        \n",
    "        X_train.extend(sub_X)\n",
    "        y_train.extend(sub_y)\n",
    "        \n",
    "        # track the position of data per calf in X_train\n",
    "        calf_X_train_indexes[calf_id] = [i for i in range (index_tracker, index_tracker+len(sub_X))]\n",
    "        \n",
    "        index_tracker = index_tracker + len(sub_X)"
   ]
  },
  {
   "cell_type": "code",
   "execution_count": 10,
   "id": "47992a08",
   "metadata": {},
   "outputs": [],
   "source": [
    "# save per calf indexes in X_train\n",
    "with open(per_calf_data_index_in_X_train_save_path + 'calf_data_indexes_in_X_train.pickle', 'wb') as handle:\n",
    "    pickle.dump(calf_X_train_indexes, handle, protocol=pickle.HIGHEST_PROTOCOL)"
   ]
  },
  {
   "cell_type": "markdown",
   "id": "245e6279",
   "metadata": {},
   "source": [
    "## Combine Test Data"
   ]
  },
  {
   "cell_type": "code",
   "execution_count": 11,
   "id": "5cac48a5",
   "metadata": {},
   "outputs": [],
   "source": [
    "X_test, y_test = [], []\n",
    "\n",
    "for calf_id in test_calf_ids:\n",
    "    sub_X, sub_y = get_data(calf_id)\n",
    "\n",
    "    X_test.extend(sub_X)\n",
    "    y_test.extend(sub_y)"
   ]
  },
  {
   "cell_type": "markdown",
   "id": "7ffad73f",
   "metadata": {},
   "source": [
    "## Generating Features"
   ]
  },
  {
   "cell_type": "code",
   "execution_count": 12,
   "id": "77530b3b",
   "metadata": {},
   "outputs": [],
   "source": [
    "X_train_df = pd.DataFrame(X_train)\n",
    "X_test_df = pd.DataFrame(X_test)"
   ]
  },
  {
   "cell_type": "code",
   "execution_count": 13,
   "id": "18482835",
   "metadata": {},
   "outputs": [
    {
     "name": "stdout",
     "output_type": "stream",
     "text": [
      "CPU times: user 2min 28s, sys: 2.23 s, total: 2min 30s\n",
      "Wall time: 2min 30s\n"
     ]
    }
   ],
   "source": [
    "%%time\n",
    "\n",
    "trf = MiniRocketMultivariateVariable(num_kernels=10000) \n",
    "trf.fit(X_train_df) \n",
    "X_train_features = trf.transform(X_train_df) \n",
    "X_test_features = trf.transform(X_test_df) "
   ]
  },
  {
   "cell_type": "code",
   "execution_count": 14,
   "id": "0307a7f9",
   "metadata": {},
   "outputs": [],
   "source": [
    "np.save(feature_data_save_parent_path + 'X_train_features', X_train_features)\n",
    "np.save(feature_data_save_parent_path + 'X_test_features', X_test_features)\n",
    "\n",
    "np.save(feature_data_save_parent_path + 'y_train', y_train)\n",
    "np.save(feature_data_save_parent_path + 'y_test', y_test)"
   ]
  }
 ],
 "metadata": {
  "kernelspec": {
   "display_name": "Python 3 (ipykernel)",
   "language": "python",
   "name": "python3"
  },
  "language_info": {
   "codemirror_mode": {
    "name": "ipython",
    "version": 3
   },
   "file_extension": ".py",
   "mimetype": "text/x-python",
   "name": "python",
   "nbconvert_exporter": "python",
   "pygments_lexer": "ipython3",
   "version": "3.8.10"
  }
 },
 "nbformat": 4,
 "nbformat_minor": 5
}
