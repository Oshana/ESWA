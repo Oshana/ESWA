{
 "cells": [
  {
   "cell_type": "code",
   "execution_count": 1,
   "id": "87d9181a",
   "metadata": {},
   "outputs": [],
   "source": [
    "import numpy as np\n",
    "import pickle\n",
    "from sklearn.linear_model import RidgeClassifierCV\n",
    "from sklearn.feature_selection import RFE\n",
    "from sklearn.pipeline import Pipeline\n",
    "from sklearn.model_selection import RandomizedSearchCV\n",
    "from sklearn.preprocessing import StandardScaler\n",
    "from sklearn.ensemble import RandomForestClassifier\n",
    "from sklearn.feature_selection import SelectFromModel\n",
    "from sklearn.metrics import balanced_accuracy_score, precision_score, recall_score, classification_report"
   ]
  },
  {
   "cell_type": "code",
   "execution_count": 2,
   "id": "fc55a6c7",
   "metadata": {},
   "outputs": [],
   "source": [
    "import sys\n",
    "sys.path.append('../../../')\n",
    "\n",
    "from holsteinlib.evaluation_v2 import evaluate_model"
   ]
  },
  {
   "cell_type": "code",
   "execution_count": 3,
   "id": "2341b666",
   "metadata": {},
   "outputs": [],
   "source": [
    "def find_duplicates(arr1, arr2):\n",
    "    set_arr2 = set(arr2)\n",
    "    \n",
    "    for i in arr1:\n",
    "        if i in set_arr2:\n",
    "            return True\n",
    "    \n",
    "    return False"
   ]
  },
  {
   "cell_type": "code",
   "execution_count": 4,
   "id": "501bae62",
   "metadata": {},
   "outputs": [],
   "source": [
    "def return_combined_indexes(calf_ids, calf_data_indexes):\n",
    "    \n",
    "    indexes = []\n",
    "    \n",
    "    for calf in calf_ids:\n",
    "        sub_indexes = calf_data_indexes[calf]\n",
    "        \n",
    "        indexes.extend(sub_indexes)\n",
    "    \n",
    "    return indexes"
   ]
  },
  {
   "cell_type": "code",
   "execution_count": 5,
   "id": "fdd89faa",
   "metadata": {},
   "outputs": [],
   "source": [
    "class_labels = sorted(['drinking_milk', 'grooming', 'lying', 'other', 'running', 'walking'])"
   ]
  },
  {
   "cell_type": "code",
   "execution_count": 6,
   "id": "85a6a8da",
   "metadata": {},
   "outputs": [],
   "source": [
    "data_split_info_path = '../../../Datasets/SixBehaviourClassification/six_label_calf_split_info.pkl'\n",
    "calf_data_index_info_path = '../../../Datasets/SixBehaviourClassification/ROCKET/calf_data_indexes_in_X_train.pickle'"
   ]
  },
  {
   "cell_type": "code",
   "execution_count": 7,
   "id": "9de69fe5",
   "metadata": {},
   "outputs": [],
   "source": [
    "# Loading ROCKET feature data\n",
    "X_train_features = np.load('../../../Datasets/SixBehaviourClassification/ROCKET/X_train_features.npy')\n",
    "X_test_features = np.load('../../../Datasets/SixBehaviourClassification/ROCKET/X_test_features.npy')\n",
    "\n",
    "y_train = np.load('../../../Datasets/SixBehaviourClassification/ROCKET/y_train.npy')\n",
    "y_test = np.load('../../../Datasets/SixBehaviourClassification/ROCKET/y_test.npy')"
   ]
  },
  {
   "cell_type": "code",
   "execution_count": 8,
   "id": "3b4a8bd2",
   "metadata": {},
   "outputs": [],
   "source": [
    "with open(data_split_info_path, 'rb') as handle:\n",
    "    data_split_info = pickle.load(handle)"
   ]
  },
  {
   "cell_type": "code",
   "execution_count": 9,
   "id": "92c06585",
   "metadata": {},
   "outputs": [],
   "source": [
    "# Loading the validation calf data indexes in X_train (which also correspond \n",
    "# to the positio on X_train_features)\n",
    "\n",
    "with open(calf_data_index_info_path, 'rb') as handle:\n",
    "    calf_data_indexes = pickle.load(handle)"
   ]
  },
  {
   "cell_type": "markdown",
   "id": "a282451e",
   "metadata": {},
   "source": [
    "# GridSearch"
   ]
  },
  {
   "cell_type": "code",
   "execution_count": null,
   "id": "34ae0cc7",
   "metadata": {},
   "outputs": [],
   "source": [
    "all_calf_ids = data_split_info['all_calves']\n",
    "test_calf_ids = data_split_info['test_calves']\n",
    "validation_sets = data_split_info['valid_calf_id_sets']"
   ]
  },
  {
   "cell_type": "code",
   "execution_count": null,
   "id": "e0cb2671",
   "metadata": {
    "scrolled": true
   },
   "outputs": [],
   "source": [
    "folds = []\n",
    "for valid_set in validation_sets:\n",
    "    train_calves = [calf for calf in all_calf_ids if calf not in test_calf_ids and calf not in valid_set]\n",
    "    \n",
    "    # ensuring the generalization for the second time\n",
    "    test_in_train = find_duplicates(test_calf_ids, train_calves)\n",
    "    valid_in_train = find_duplicates(valid_set, train_calves)\n",
    "    \n",
    "    if not test_in_train and not valid_in_train:\n",
    "        folds.append((return_combined_indexes(train_calves, calf_data_indexes), \n",
    "                     return_combined_indexes(valid_set, calf_data_indexes)))\n",
    "    else:\n",
    "        print('Error: Duplicate Entries found in the splits')"
   ]
  },
  {
   "cell_type": "code",
   "execution_count": null,
   "id": "eeeeb521",
   "metadata": {},
   "outputs": [],
   "source": [
    "print('Number of folds: ', len(folds))"
   ]
  },
  {
   "cell_type": "code",
   "execution_count": null,
   "id": "625ff9cd",
   "metadata": {},
   "outputs": [],
   "source": [
    "param_distributions = {\n",
    "    'alphas': np.linspace(0.001, 1000, num=100),\n",
    "    'class_weight': [None, 'balanced'],\n",
    "    'fit_intercept': [True, False],\n",
    "}\n",
    "\n",
    "# Initialize the RidgeClassifierCV\n",
    "ridge_cv = RidgeClassifierCV()\n",
    "\n",
    "# Initialize the RandomizedSearchCV\n",
    "random_search = RandomizedSearchCV(estimator=ridge_cv, param_distributions=param_distributions, \n",
    "                                   n_iter=50, cv=folds, scoring='balanced_accuracy', random_state=42,\n",
    "                                  verbose=2)\n",
    "\n",
    "\n",
    "random_search.fit(X_train_features, y_train)"
   ]
  },
  {
   "cell_type": "code",
   "execution_count": null,
   "id": "4823b12a",
   "metadata": {},
   "outputs": [],
   "source": [
    "# Print the best parameters and the best score\n",
    "print(\"Best parameters found: \", random_search.best_params_)\n",
    "print(\"Best cross-validation balanced accuracy: \", random_search.best_score_)"
   ]
  },
  {
   "cell_type": "code",
   "execution_count": null,
   "id": "0830d9ad",
   "metadata": {},
   "outputs": [],
   "source": [
    "# Best parameters found:  {'fit_intercept': False, 'class_weight': 'balanced', 'alphas': 131.31400000000002}\n",
    "# Best cross-validation balanced accuracy:  0.7825888082391979"
   ]
  },
  {
   "cell_type": "markdown",
   "id": "b38f57ad",
   "metadata": {},
   "source": [
    "# Testing"
   ]
  },
  {
   "cell_type": "code",
   "execution_count": 10,
   "id": "84f5287f",
   "metadata": {},
   "outputs": [
    {
     "name": "stdout",
     "output_type": "stream",
     "text": [
      "Balanced Accuracy:  0.7740254005552175\n"
     ]
    }
   ],
   "source": [
    "# ridge_clf = RidgeClassifierCV(**random_search.best_params_)\n",
    "ridge_clf = RidgeClassifierCV(fit_intercept= False, class_weight= 'balanced', alphas= 131.31400000000002)\n",
    "\n",
    "ridge_clf.fit(X_train_features, y_train)\n",
    "\n",
    "y_pre = ridge_clf.predict(X_test_features)\n",
    "\n",
    "print('Balanced Accuracy: ', balanced_accuracy_score(y_test, y_pre))"
   ]
  },
  {
   "cell_type": "code",
   "execution_count": 12,
   "id": "3b4408e6",
   "metadata": {},
   "outputs": [
    {
     "data": {
      "text/plain": [
       "['6_bhav_classi_Ridge_ROCKET_model.pkl']"
      ]
     },
     "execution_count": 12,
     "metadata": {},
     "output_type": "execute_result"
    }
   ],
   "source": [
    "import joblib\n",
    "joblib.dump(ridge_clf, '6_bhav_classi_Ridge_ROCKET_model.pkl')"
   ]
  },
  {
   "cell_type": "code",
   "execution_count": 11,
   "id": "0c167169",
   "metadata": {},
   "outputs": [],
   "source": [
    "class_wise_metrics, overall_report, additional_metrics, cm = evaluate_model(y_test, y_pre, class_labels)\n",
    "\n",
    "all_results = {\n",
    "    'class_wise_metrics' : class_wise_metrics,\n",
    "    'overall_report' : overall_report,\n",
    "    'additional_metrics' : additional_metrics,\n",
    "    'confusion_matirx': cm\n",
    "}\n",
    "\n",
    "with open('Results/Test Results/test_results.pickle', 'wb') as handle:\n",
    "    pickle.dump(all_results, handle, protocol=pickle.HIGHEST_PROTOCOL)"
   ]
  },
  {
   "cell_type": "code",
   "execution_count": 12,
   "id": "5c96dcb6",
   "metadata": {},
   "outputs": [
    {
     "name": "stdout",
     "output_type": "stream",
     "text": [
      "               precision    recall  f1-score   support\n",
      "\n",
      "drinking_milk       0.54      0.82      0.65      2072\n",
      "     grooming       0.38      0.65      0.48       956\n",
      "        lying       0.94      0.88      0.91      9762\n",
      "        other       0.77      0.62      0.69      8985\n",
      "      running       0.90      0.96      0.93       493\n",
      "      walking       0.27      0.71      0.39       378\n",
      "\n",
      "     accuracy                           0.76     22646\n",
      "    macro avg       0.63      0.77      0.67     22646\n",
      " weighted avg       0.80      0.76      0.77     22646\n",
      "\n"
     ]
    }
   ],
   "source": [
    "print(overall_report)"
   ]
  },
  {
   "cell_type": "code",
   "execution_count": 13,
   "id": "79c568a7",
   "metadata": {},
   "outputs": [
    {
     "data": {
      "text/plain": [
       "{'model_accuracy': 0.7603550295857988,\n",
       " 'balanced_accuracy': 0.7740254005552175,\n",
       " 'macro_precision': 0.6329889791719078,\n",
       " 'macro_recall': 0.7740254005552175,\n",
       " 'macro_f1-score': 0.6740731526217351}"
      ]
     },
     "execution_count": 13,
     "metadata": {},
     "output_type": "execute_result"
    }
   ],
   "source": [
    "additional_metrics"
   ]
  },
  {
   "cell_type": "markdown",
   "id": "f537f889",
   "metadata": {},
   "source": [
    "# Extra-Feature Importance"
   ]
  },
  {
   "cell_type": "markdown",
   "id": "4c27c47c",
   "metadata": {},
   "source": [
    "## RandomForest FI"
   ]
  },
  {
   "cell_type": "code",
   "execution_count": 17,
   "id": "10972994",
   "metadata": {},
   "outputs": [
    {
     "data": {
      "text/html": [
       "<style>#sk-container-id-1 {color: black;background-color: white;}#sk-container-id-1 pre{padding: 0;}#sk-container-id-1 div.sk-toggleable {background-color: white;}#sk-container-id-1 label.sk-toggleable__label {cursor: pointer;display: block;width: 100%;margin-bottom: 0;padding: 0.3em;box-sizing: border-box;text-align: center;}#sk-container-id-1 label.sk-toggleable__label-arrow:before {content: \"▸\";float: left;margin-right: 0.25em;color: #696969;}#sk-container-id-1 label.sk-toggleable__label-arrow:hover:before {color: black;}#sk-container-id-1 div.sk-estimator:hover label.sk-toggleable__label-arrow:before {color: black;}#sk-container-id-1 div.sk-toggleable__content {max-height: 0;max-width: 0;overflow: hidden;text-align: left;background-color: #f0f8ff;}#sk-container-id-1 div.sk-toggleable__content pre {margin: 0.2em;color: black;border-radius: 0.25em;background-color: #f0f8ff;}#sk-container-id-1 input.sk-toggleable__control:checked~div.sk-toggleable__content {max-height: 200px;max-width: 100%;overflow: auto;}#sk-container-id-1 input.sk-toggleable__control:checked~label.sk-toggleable__label-arrow:before {content: \"▾\";}#sk-container-id-1 div.sk-estimator input.sk-toggleable__control:checked~label.sk-toggleable__label {background-color: #d4ebff;}#sk-container-id-1 div.sk-label input.sk-toggleable__control:checked~label.sk-toggleable__label {background-color: #d4ebff;}#sk-container-id-1 input.sk-hidden--visually {border: 0;clip: rect(1px 1px 1px 1px);clip: rect(1px, 1px, 1px, 1px);height: 1px;margin: -1px;overflow: hidden;padding: 0;position: absolute;width: 1px;}#sk-container-id-1 div.sk-estimator {font-family: monospace;background-color: #f0f8ff;border: 1px dotted black;border-radius: 0.25em;box-sizing: border-box;margin-bottom: 0.5em;}#sk-container-id-1 div.sk-estimator:hover {background-color: #d4ebff;}#sk-container-id-1 div.sk-parallel-item::after {content: \"\";width: 100%;border-bottom: 1px solid gray;flex-grow: 1;}#sk-container-id-1 div.sk-label:hover label.sk-toggleable__label {background-color: #d4ebff;}#sk-container-id-1 div.sk-serial::before {content: \"\";position: absolute;border-left: 1px solid gray;box-sizing: border-box;top: 0;bottom: 0;left: 50%;z-index: 0;}#sk-container-id-1 div.sk-serial {display: flex;flex-direction: column;align-items: center;background-color: white;padding-right: 0.2em;padding-left: 0.2em;position: relative;}#sk-container-id-1 div.sk-item {position: relative;z-index: 1;}#sk-container-id-1 div.sk-parallel {display: flex;align-items: stretch;justify-content: center;background-color: white;position: relative;}#sk-container-id-1 div.sk-item::before, #sk-container-id-1 div.sk-parallel-item::before {content: \"\";position: absolute;border-left: 1px solid gray;box-sizing: border-box;top: 0;bottom: 0;left: 50%;z-index: -1;}#sk-container-id-1 div.sk-parallel-item {display: flex;flex-direction: column;z-index: 1;position: relative;background-color: white;}#sk-container-id-1 div.sk-parallel-item:first-child::after {align-self: flex-end;width: 50%;}#sk-container-id-1 div.sk-parallel-item:last-child::after {align-self: flex-start;width: 50%;}#sk-container-id-1 div.sk-parallel-item:only-child::after {width: 0;}#sk-container-id-1 div.sk-dashed-wrapped {border: 1px dashed gray;margin: 0 0.4em 0.5em 0.4em;box-sizing: border-box;padding-bottom: 0.4em;background-color: white;}#sk-container-id-1 div.sk-label label {font-family: monospace;font-weight: bold;display: inline-block;line-height: 1.2em;}#sk-container-id-1 div.sk-label-container {text-align: center;}#sk-container-id-1 div.sk-container {/* jupyter's `normalize.less` sets `[hidden] { display: none; }` but bootstrap.min.css set `[hidden] { display: none !important; }` so we also need the `!important` here to be able to override the default hidden behavior on the sphinx rendered scikit-learn.org. See: https://github.com/scikit-learn/scikit-learn/issues/21755 */display: inline-block !important;position: relative;}#sk-container-id-1 div.sk-text-repr-fallback {display: none;}</style><div id=\"sk-container-id-1\" class=\"sk-top-container\"><div class=\"sk-text-repr-fallback\"><pre>RandomForestClassifier(class_weight=&#x27;balanced&#x27;, max_depth=10,\n",
       "                       max_features=&#x27;log2&#x27;, min_samples_split=5,\n",
       "                       n_estimators=200)</pre><b>In a Jupyter environment, please rerun this cell to show the HTML representation or trust the notebook. <br />On GitHub, the HTML representation is unable to render, please try loading this page with nbviewer.org.</b></div><div class=\"sk-container\" hidden><div class=\"sk-item\"><div class=\"sk-estimator sk-toggleable\"><input class=\"sk-toggleable__control sk-hidden--visually\" id=\"sk-estimator-id-1\" type=\"checkbox\" checked><label for=\"sk-estimator-id-1\" class=\"sk-toggleable__label sk-toggleable__label-arrow\">RandomForestClassifier</label><div class=\"sk-toggleable__content\"><pre>RandomForestClassifier(class_weight=&#x27;balanced&#x27;, max_depth=10,\n",
       "                       max_features=&#x27;log2&#x27;, min_samples_split=5,\n",
       "                       n_estimators=200)</pre></div></div></div></div></div>"
      ],
      "text/plain": [
       "RandomForestClassifier(class_weight='balanced', max_depth=10,\n",
       "                       max_features='log2', min_samples_split=5,\n",
       "                       n_estimators=200)"
      ]
     },
     "execution_count": 17,
     "metadata": {},
     "output_type": "execute_result"
    }
   ],
   "source": [
    "rf = RandomForestClassifier(n_estimators = 200, class_weight='balanced', criterion='gini', max_depth=10,\n",
    "                           max_features='log2', min_samples_split=5)\n",
    "rf.fit(X_train_features, y_train)"
   ]
  },
  {
   "cell_type": "code",
   "execution_count": 19,
   "id": "92170982",
   "metadata": {},
   "outputs": [],
   "source": [
    "importances = rf.feature_importances_\n",
    "feature_names = [f\"Feature {i}\" for i in range(np.array(X_train_features).shape[1])]"
   ]
  },
  {
   "cell_type": "code",
   "execution_count": 21,
   "id": "a626e7f2",
   "metadata": {},
   "outputs": [],
   "source": [
    "import pandas as pd\n",
    "feature_importances = pd.DataFrame({'Feature': feature_names, 'Importance': importances})\n",
    "feature_importances = feature_importances.sort_values(by='Importance', ascending=False)"
   ]
  },
  {
   "cell_type": "code",
   "execution_count": 22,
   "id": "cc7e7b78",
   "metadata": {
    "scrolled": true
   },
   "outputs": [
    {
     "name": "stdout",
     "output_type": "stream",
     "text": [
      "5 = Test Balanced Accuracy: 0.5184810315391212\n",
      "10 = Test Balanced Accuracy: 0.5405830236150275\n",
      "15 = Test Balanced Accuracy: 0.5727671194924968\n",
      "20 = Test Balanced Accuracy: 0.5874698284898257\n",
      "30 = Test Balanced Accuracy: 0.6386256440963414\n",
      "40 = Test Balanced Accuracy: 0.6482232177156425\n",
      "50 = Test Balanced Accuracy: 0.6492644625336924\n",
      "60 = Test Balanced Accuracy: 0.6649720914413946\n",
      "70 = Test Balanced Accuracy: 0.6648813885018311\n",
      "80 = Test Balanced Accuracy: 0.6672387083136463\n",
      "90 = Test Balanced Accuracy: 0.6748484037804142\n",
      "100 = Test Balanced Accuracy: 0.6766111982613533\n",
      "200 = Test Balanced Accuracy: 0.7095667370303426\n",
      "300 = Test Balanced Accuracy: 0.718910352709814\n",
      "400 = Test Balanced Accuracy: 0.7381931257990755\n",
      "500 = Test Balanced Accuracy: 0.7455029823167697\n",
      "600 = Test Balanced Accuracy: 0.7481264360950665\n",
      "700 = Test Balanced Accuracy: 0.753380448856697\n",
      "800 = Test Balanced Accuracy: 0.7585770998561215\n",
      "900 = Test Balanced Accuracy: 0.7593365929139521\n",
      "1000 = Test Balanced Accuracy: 0.7595826499092521\n",
      "1100 = Test Balanced Accuracy: 0.7627655579982937\n",
      "1200 = Test Balanced Accuracy: 0.7641379937635674\n",
      "1300 = Test Balanced Accuracy: 0.7619189150568597\n",
      "1400 = Test Balanced Accuracy: 0.7617152090791119\n",
      "1500 = Test Balanced Accuracy: 0.7659294192728164\n",
      "1600 = Test Balanced Accuracy: 0.7668577861766973\n",
      "1700 = Test Balanced Accuracy: 0.7672036824985758\n",
      "1800 = Test Balanced Accuracy: 0.7689071412260312\n",
      "1900 = Test Balanced Accuracy: 0.767995417522887\n",
      "2000 = Test Balanced Accuracy: 0.7684217276743358\n",
      "2100 = Test Balanced Accuracy: 0.7677220894802351\n",
      "2200 = Test Balanced Accuracy: 0.7684067958360336\n",
      "2300 = Test Balanced Accuracy: 0.7681810666513135\n",
      "2400 = Test Balanced Accuracy: 0.7688823579812799\n",
      "2500 = Test Balanced Accuracy: 0.7701468488739405\n",
      "2600 = Test Balanced Accuracy: 0.7704331906852285\n",
      "2700 = Test Balanced Accuracy: 0.7701642452036911\n",
      "2800 = Test Balanced Accuracy: 0.7708402749899008\n",
      "2900 = Test Balanced Accuracy: 0.769933339170771\n",
      "3000 = Test Balanced Accuracy: 0.7695562743307499\n",
      "3100 = Test Balanced Accuracy: 0.7700325107914857\n",
      "3200 = Test Balanced Accuracy: 0.7705001607191121\n",
      "3300 = Test Balanced Accuracy: 0.77051478596162\n",
      "3400 = Test Balanced Accuracy: 0.77107086223645\n",
      "3500 = Test Balanced Accuracy: 0.7714661525077151\n",
      "3600 = Test Balanced Accuracy: 0.7716250562601833\n",
      "3700 = Test Balanced Accuracy: 0.7723872299290623\n",
      "3800 = Test Balanced Accuracy: 0.7723402906896665\n",
      "3900 = Test Balanced Accuracy: 0.7715150865676784\n",
      "4000 = Test Balanced Accuracy: 0.7706362861515169\n",
      "4100 = Test Balanced Accuracy: 0.772813290068033\n",
      "4200 = Test Balanced Accuracy: 0.7729956675233033\n",
      "4300 = Test Balanced Accuracy: 0.7732317262626007\n",
      "4400 = Test Balanced Accuracy: 0.7731033636013142\n",
      "4500 = Test Balanced Accuracy: 0.7730019070280653\n",
      "4600 = Test Balanced Accuracy: 0.7723333035627267\n",
      "4700 = Test Balanced Accuracy: 0.7723922283898977\n",
      "4800 = Test Balanced Accuracy: 0.7720555392815126\n",
      "4900 = Test Balanced Accuracy: 0.7721369870589401\n",
      "5000 = Test Balanced Accuracy: 0.771469990915726\n",
      "5100 = Test Balanced Accuracy: 0.7725125577229738\n",
      "5200 = Test Balanced Accuracy: 0.7710434572566293\n",
      "5300 = Test Balanced Accuracy: 0.7721829476797147\n",
      "5400 = Test Balanced Accuracy: 0.7727511809086076\n",
      "5500 = Test Balanced Accuracy: 0.7732514283256763\n",
      "5600 = Test Balanced Accuracy: 0.7725222551863835\n",
      "5700 = Test Balanced Accuracy: 0.7710680104185278\n",
      "5800 = Test Balanced Accuracy: 0.772233195021924\n",
      "5900 = Test Balanced Accuracy: 0.7744440479306801\n",
      "6000 = Test Balanced Accuracy: 0.7731212586216888\n",
      "6100 = Test Balanced Accuracy: 0.774049312372398\n",
      "6200 = Test Balanced Accuracy: 0.7740622809685016\n",
      "6300 = Test Balanced Accuracy: 0.7735172853788472\n",
      "6400 = Test Balanced Accuracy: 0.7732807313225125\n",
      "6500 = Test Balanced Accuracy: 0.7732841823328277\n",
      "6600 = Test Balanced Accuracy: 0.7745554727968121\n",
      "6700 = Test Balanced Accuracy: 0.7740989695740103\n",
      "6800 = Test Balanced Accuracy: 0.7741011151295809\n",
      "6900 = Test Balanced Accuracy: 0.7749067709583768\n",
      "7000 = Test Balanced Accuracy: 0.775820779773469\n",
      "7100 = Test Balanced Accuracy: 0.7754181130822791\n",
      "7200 = Test Balanced Accuracy: 0.7745919097626341\n",
      "7300 = Test Balanced Accuracy: 0.7743808257862517\n",
      "7400 = Test Balanced Accuracy: 0.7767180781140955\n",
      "7500 = Test Balanced Accuracy: 0.7759711668961429\n",
      "7600 = Test Balanced Accuracy: 0.7741700411186238\n",
      "7700 = Test Balanced Accuracy: 0.7744287404082293\n",
      "7800 = Test Balanced Accuracy: 0.7746104426688412\n",
      "7900 = Test Balanced Accuracy: 0.7745918932345989\n",
      "8000 = Test Balanced Accuracy: 0.7750119670531174\n",
      "8100 = Test Balanced Accuracy: 0.7752117411768452\n",
      "8200 = Test Balanced Accuracy: 0.7744477775337625\n",
      "8300 = Test Balanced Accuracy: 0.7757015935622679\n",
      "8400 = Test Balanced Accuracy: 0.7752014070454788\n",
      "8500 = Test Balanced Accuracy: 0.7729390102420582\n",
      "8600 = Test Balanced Accuracy: 0.7732464747133395\n",
      "8700 = Test Balanced Accuracy: 0.7747245365481558\n",
      "8800 = Test Balanced Accuracy: 0.7751971519024133\n",
      "8900 = Test Balanced Accuracy: 0.7753688602239857\n",
      "9000 = Test Balanced Accuracy: 0.7749566609755543\n",
      "9100 = Test Balanced Accuracy: 0.7741680515027246\n",
      "9200 = Test Balanced Accuracy: 0.7741416217679378\n",
      "9300 = Test Balanced Accuracy: 0.7740203207645736\n",
      "9400 = Test Balanced Accuracy: 0.7732423734771089\n",
      "9500 = Test Balanced Accuracy: 0.7737343455701907\n",
      "9600 = Test Balanced Accuracy: 0.7749215262284371\n",
      "9700 = Test Balanced Accuracy: 0.7748107347214787\n",
      "9800 = Test Balanced Accuracy: 0.7746785831502131\n",
      "9900 = Test Balanced Accuracy: 0.7738213463196816\n"
     ]
    }
   ],
   "source": [
    "results = {}\n",
    "for i in feat_count:\n",
    "    top_n = i  # You can change this to select more features\n",
    "    top_features = feature_importances['Feature'][:top_n].values\n",
    "    top_indices = feature_importances.index[:top_n].values\n",
    "    \n",
    "    X_train_top = np.array(X_train_features)[:, top_indices]\n",
    "    X_test_top = np.array(X_test_features)[:, top_indices]\n",
    "    \n",
    "    ridge_clf = RidgeClassifierCV(fit_intercept= False, class_weight= 'balanced', alphas= 131.31400000000002)\n",
    "\n",
    "    ridge_clf.fit(X_train_top, y_train)\n",
    "\n",
    "    y_pre = ridge_clf.predict(X_test_top)\n",
    "    \n",
    "    ba = balanced_accuracy_score(y_test, y_pre)\n",
    "    \n",
    "    results[i] = ba\n",
    "    \n",
    "    print(f'{i} = Test Balanced Accuracy: {ba}')"
   ]
  },
  {
   "cell_type": "code",
   "execution_count": 23,
   "id": "b44acc88",
   "metadata": {},
   "outputs": [
    {
     "name": "stdout",
     "output_type": "stream",
     "text": [
      "7400\n"
     ]
    }
   ],
   "source": [
    "# sorted_dict = dict(sorted(results.items(), key=lambda item: item[1], reverse=True))\n",
    "max_key = max(results, key=lambda k: results[k])\n",
    "print(max_key)"
   ]
  },
  {
   "cell_type": "code",
   "execution_count": 24,
   "id": "2eb16a7f",
   "metadata": {},
   "outputs": [
    {
     "data": {
      "text/plain": [
       "0.7767180781140955"
      ]
     },
     "execution_count": 24,
     "metadata": {},
     "output_type": "execute_result"
    }
   ],
   "source": [
    "results[7400]"
   ]
  },
  {
   "cell_type": "code",
   "execution_count": 14,
   "id": "c9ff8883",
   "metadata": {},
   "outputs": [],
   "source": [
    "feat_count = []\n",
    "\n",
    "feat_count.extend([5, 10, 15, 20, 30, 40, 50, 60, 70, 80, 90])\n",
    "feat_count.extend(np.arange(100, 10000, 100))"
   ]
  },
  {
   "cell_type": "code",
   "execution_count": 25,
   "id": "7186d043",
   "metadata": {},
   "outputs": [
    {
     "data": {
      "text/plain": [
       "[<matplotlib.lines.Line2D at 0x7f123aa2de50>]"
      ]
     },
     "execution_count": 25,
     "metadata": {},
     "output_type": "execute_result"
    },
    {
     "data": {
      "image/png": "[encoded data removed]",
      "text/plain": [
       "<Figure size 640x480 with 1 Axes>"
      ]
     },
     "metadata": {},
     "output_type": "display_data"
    }
   ],
   "source": [
    "import matplotlib.pyplot as plt\n",
    "\n",
    "plt.plot(results.keys(), [round(x, 2) for x in results.values()])"
   ]
  },
  {
   "cell_type": "code",
   "execution_count": 26,
   "id": "e7ba2a12",
   "metadata": {},
   "outputs": [
    {
     "name": "stdout",
     "output_type": "stream",
     "text": [
      "7000\n",
      "7100\n",
      "7400\n",
      "7500\n",
      "8000\n",
      "8100\n",
      "8300\n",
      "8400\n",
      "8800\n",
      "8900\n"
     ]
    }
   ],
   "source": [
    "for fc, fi in results.items():\n",
    "    if round(fi, 2) >= 0.78:\n",
    "        print(fc)"
   ]
  },
  {
   "cell_type": "markdown",
   "id": "59d0f296",
   "metadata": {},
   "source": [
    "## Mutual Importance"
   ]
  },
  {
   "cell_type": "code",
   "execution_count": 27,
   "id": "45b7aa0b",
   "metadata": {},
   "outputs": [],
   "source": [
    "from sklearn.feature_selection import mutual_info_classif"
   ]
  },
  {
   "cell_type": "code",
   "execution_count": 28,
   "id": "b8f34754",
   "metadata": {},
   "outputs": [],
   "source": [
    "mi_scores = mutual_info_classif(X_train_features, y_train)\n",
    "\n",
    "feature_names = [f\"Feature {i}\" for i in range(X_train_features.shape[1])]\n",
    "mi_importances = pd.DataFrame({'Feature': feature_names, 'Mutual Information': mi_scores})\n",
    "mi_importances = mi_importances.sort_values(by='Mutual Information', ascending=False)"
   ]
  },
  {
   "cell_type": "code",
   "execution_count": 29,
   "id": "b3dfbe5b",
   "metadata": {
    "scrolled": true
   },
   "outputs": [
    {
     "name": "stdout",
     "output_type": "stream",
     "text": [
      "5 = Test Balanced Accuracy: 0.23894423558549882\n",
      "10 = Test Balanced Accuracy: 0.3980868377568889\n",
      "15 = Test Balanced Accuracy: 0.43582211285772493\n",
      "20 = Test Balanced Accuracy: 0.4565656592273919\n",
      "30 = Test Balanced Accuracy: 0.47438328711597544\n",
      "40 = Test Balanced Accuracy: 0.5210785996523287\n",
      "50 = Test Balanced Accuracy: 0.5361181311602744\n",
      "60 = Test Balanced Accuracy: 0.5502114786311798\n",
      "70 = Test Balanced Accuracy: 0.5580628671736688\n",
      "80 = Test Balanced Accuracy: 0.5684616321497172\n",
      "90 = Test Balanced Accuracy: 0.570178288819918\n",
      "100 = Test Balanced Accuracy: 0.5695097657324752\n",
      "200 = Test Balanced Accuracy: 0.6234023342811194\n",
      "300 = Test Balanced Accuracy: 0.6458068172049902\n",
      "400 = Test Balanced Accuracy: 0.6676427252058454\n",
      "500 = Test Balanced Accuracy: 0.6755037208925646\n",
      "600 = Test Balanced Accuracy: 0.6868157629531728\n",
      "700 = Test Balanced Accuracy: 0.7013133837948661\n",
      "800 = Test Balanced Accuracy: 0.7065909467442372\n",
      "900 = Test Balanced Accuracy: 0.7135145351118779\n",
      "1000 = Test Balanced Accuracy: 0.7181451217992635\n",
      "1100 = Test Balanced Accuracy: 0.7225940312613668\n",
      "1200 = Test Balanced Accuracy: 0.7261317084014481\n",
      "1300 = Test Balanced Accuracy: 0.726524574805011\n",
      "1400 = Test Balanced Accuracy: 0.7315522972767763\n",
      "1500 = Test Balanced Accuracy: 0.7354105699102002\n",
      "1600 = Test Balanced Accuracy: 0.7377742031890128\n",
      "1700 = Test Balanced Accuracy: 0.7377169424970408\n",
      "1800 = Test Balanced Accuracy: 0.7391693807626577\n",
      "1900 = Test Balanced Accuracy: 0.7401279974014598\n",
      "2000 = Test Balanced Accuracy: 0.7413411093056239\n",
      "2100 = Test Balanced Accuracy: 0.7443044734360128\n",
      "2200 = Test Balanced Accuracy: 0.7459240769978751\n",
      "2300 = Test Balanced Accuracy: 0.7475600884371607\n",
      "2400 = Test Balanced Accuracy: 0.7483648516328141\n",
      "2500 = Test Balanced Accuracy: 0.7507268653722933\n",
      "2600 = Test Balanced Accuracy: 0.7531555756059328\n",
      "2700 = Test Balanced Accuracy: 0.7524280361771383\n",
      "2800 = Test Balanced Accuracy: 0.752325405920362\n",
      "2900 = Test Balanced Accuracy: 0.7550405904139197\n",
      "3000 = Test Balanced Accuracy: 0.7560338525441764\n",
      "3100 = Test Balanced Accuracy: 0.7562293347564744\n",
      "3200 = Test Balanced Accuracy: 0.7577260777967498\n",
      "3300 = Test Balanced Accuracy: 0.7608640682944557\n",
      "3400 = Test Balanced Accuracy: 0.7606889364899369\n",
      "3500 = Test Balanced Accuracy: 0.7614859401046811\n",
      "3600 = Test Balanced Accuracy: 0.7627919829069226\n",
      "3700 = Test Balanced Accuracy: 0.7638941016295959\n",
      "3800 = Test Balanced Accuracy: 0.7647613111427175\n",
      "3900 = Test Balanced Accuracy: 0.7634025080841697\n",
      "4000 = Test Balanced Accuracy: 0.7646178082220189\n",
      "4100 = Test Balanced Accuracy: 0.7667164803328864\n",
      "4200 = Test Balanced Accuracy: 0.7662042158991801\n",
      "4300 = Test Balanced Accuracy: 0.7662449041588227\n",
      "4400 = Test Balanced Accuracy: 0.7661945957793823\n",
      "4500 = Test Balanced Accuracy: 0.7650282422208726\n",
      "4600 = Test Balanced Accuracy: 0.7643734200479703\n",
      "4700 = Test Balanced Accuracy: 0.7656331487451142\n",
      "4800 = Test Balanced Accuracy: 0.7641412755819981\n",
      "4900 = Test Balanced Accuracy: 0.7648973589245364\n",
      "5000 = Test Balanced Accuracy: 0.7658269437346822\n",
      "5100 = Test Balanced Accuracy: 0.7663931306332303\n",
      "5200 = Test Balanced Accuracy: 0.767207516104393\n",
      "5300 = Test Balanced Accuracy: 0.7679537457198161\n",
      "5400 = Test Balanced Accuracy: 0.7691567012145238\n",
      "5500 = Test Balanced Accuracy: 0.770173622115199\n",
      "5600 = Test Balanced Accuracy: 0.7719744108722231\n",
      "5700 = Test Balanced Accuracy: 0.7727986485139183\n",
      "5800 = Test Balanced Accuracy: 0.7717171766746538\n",
      "5900 = Test Balanced Accuracy: 0.7728843384169144\n",
      "6000 = Test Balanced Accuracy: 0.7725686639116334\n",
      "6100 = Test Balanced Accuracy: 0.7724606264234201\n",
      "6200 = Test Balanced Accuracy: 0.7720328262111922\n",
      "6300 = Test Balanced Accuracy: 0.7724648711076143\n",
      "6400 = Test Balanced Accuracy: 0.7732204913888978\n",
      "6500 = Test Balanced Accuracy: 0.773199003943081\n",
      "6600 = Test Balanced Accuracy: 0.774088379945923\n",
      "6700 = Test Balanced Accuracy: 0.7737369334851062\n",
      "6800 = Test Balanced Accuracy: 0.7726772832148213\n",
      "6900 = Test Balanced Accuracy: 0.7720345886580272\n",
      "7000 = Test Balanced Accuracy: 0.772675805905576\n",
      "7100 = Test Balanced Accuracy: 0.7716104576586819\n",
      "7200 = Test Balanced Accuracy: 0.7733309789314317\n",
      "7300 = Test Balanced Accuracy: 0.7727958208153561\n",
      "7400 = Test Balanced Accuracy: 0.7736597747217758\n",
      "7500 = Test Balanced Accuracy: 0.7737087160687789\n",
      "7600 = Test Balanced Accuracy: 0.7744950069925419\n",
      "7700 = Test Balanced Accuracy: 0.7744769452495905\n",
      "7800 = Test Balanced Accuracy: 0.7736187750737175\n",
      "7900 = Test Balanced Accuracy: 0.7748903276243002\n",
      "8100 = Test Balanced Accuracy: 0.7742903354502092\n",
      "8200 = Test Balanced Accuracy: 0.7738377633674746\n",
      "8300 = Test Balanced Accuracy: 0.7734171957885011\n",
      "8400 = Test Balanced Accuracy: 0.7727522058681021\n",
      "8500 = Test Balanced Accuracy: 0.7729936826364142\n",
      "8600 = Test Balanced Accuracy: 0.7722244574297773\n",
      "8700 = Test Balanced Accuracy: 0.7738586034847081\n",
      "8800 = Test Balanced Accuracy: 0.7742778542708973\n",
      "8900 = Test Balanced Accuracy: 0.7737635681891312\n",
      "9000 = Test Balanced Accuracy: 0.7728836766371265\n",
      "9100 = Test Balanced Accuracy: 0.77395283315516\n",
      "9200 = Test Balanced Accuracy: 0.7741619643482153\n",
      "9300 = Test Balanced Accuracy: 0.7736235366560281\n",
      "9400 = Test Balanced Accuracy: 0.7740158740671402\n",
      "9500 = Test Balanced Accuracy: 0.7740170268329251\n",
      "9600 = Test Balanced Accuracy: 0.7735043698701946\n",
      "9700 = Test Balanced Accuracy: 0.77358004403724\n",
      "9800 = Test Balanced Accuracy: 0.7739548134658558\n",
      "9900 = Test Balanced Accuracy: 0.7739727051126436\n"
     ]
    }
   ],
   "source": [
    "mi_results = {}\n",
    "for i in feat_count:\n",
    "    top_n = i  # You can change this to select more features\n",
    "    top_features = mi_importances['Feature'][:top_n].values\n",
    "    top_indices = mi_importances.index[:top_n].values\n",
    "    \n",
    "    X_train_top = np.array(X_train_features)[:, top_indices]\n",
    "    X_test_top = np.array(X_test_features)[:, top_indices]\n",
    "    \n",
    "    ridge_clf = RidgeClassifierCV(fit_intercept= False, class_weight= 'balanced', alphas= 131.31400000000002)\n",
    "\n",
    "    ridge_clf.fit(X_train_top, y_train)\n",
    "\n",
    "    y_pre = ridge_clf.predict(X_test_top)\n",
    "    \n",
    "    ba = balanced_accuracy_score(y_test, y_pre)\n",
    "    \n",
    "    mi_results[i] = ba\n",
    "    \n",
    "    print(f'{i} = Test Balanced Accuracy: {ba}')"
   ]
  },
  {
   "cell_type": "markdown",
   "id": "18b3a876",
   "metadata": {},
   "source": [
    "# Standardizing Features"
   ]
  },
  {
   "cell_type": "code",
   "execution_count": 21,
   "id": "6e1c41f5",
   "metadata": {},
   "outputs": [],
   "source": [
    "scaler = StandardScaler()\n",
    "X_train_scaled = scaler.fit_transform(X_train_features)\n",
    "X_test_scaled = scaler.transform(X_test_features)"
   ]
  },
  {
   "cell_type": "code",
   "execution_count": 22,
   "id": "cf03bfab",
   "metadata": {},
   "outputs": [
    {
     "name": "stdout",
     "output_type": "stream",
     "text": [
      "Balanced Accuracy:  0.7091024644277604\n"
     ]
    }
   ],
   "source": [
    "# ridge_clf = RidgeClassifierCV(**random_search.best_params_)\n",
    "ridge_clf = RidgeClassifierCV(fit_intercept= False, class_weight= 'balanced', alphas= 131.31400000000002)\n",
    "\n",
    "ridge_clf.fit(X_train_scaled, y_train)\n",
    "\n",
    "y_pre = ridge_clf.predict(X_test_scaled)\n",
    "\n",
    "print('Balanced Accuracy: ', balanced_accuracy_score(y_test, y_pre))"
   ]
  },
  {
   "cell_type": "markdown",
   "id": "66990d48",
   "metadata": {},
   "source": [
    "# Best Feature Selection"
   ]
  },
  {
   "cell_type": "markdown",
   "id": "bd755a3b",
   "metadata": {},
   "source": [
    "# RF"
   ]
  },
  {
   "cell_type": "code",
   "execution_count": 23,
   "id": "96691204",
   "metadata": {},
   "outputs": [],
   "source": [
    "selector = SelectFromModel(RandomForestClassifier(n_estimators=100, random_state=42), threshold='mean')\n",
    "X_train_selected = selector.fit_transform(X_train_features, y_train)\n",
    "X_test_selected = selector.transform(X_test_features)"
   ]
  },
  {
   "cell_type": "code",
   "execution_count": 24,
   "id": "799f6f18",
   "metadata": {},
   "outputs": [
    {
     "name": "stdout",
     "output_type": "stream",
     "text": [
      "Balanced Accuracy:  0.7606338241532545\n"
     ]
    }
   ],
   "source": [
    "# ridge_clf = RidgeClassifierCV(**random_search.best_params_)\n",
    "ridge_clf = RidgeClassifierCV(fit_intercept= False, class_weight= 'balanced', alphas= 131.31400000000002)\n",
    "\n",
    "ridge_clf.fit(X_train_selected, y_train)\n",
    "\n",
    "y_pre = ridge_clf.predict(X_test_selected)\n",
    "\n",
    "print('Balanced Accuracy: ', balanced_accuracy_score(y_test, y_pre))"
   ]
  },
  {
   "cell_type": "markdown",
   "id": "e6f2ea8c",
   "metadata": {},
   "source": [
    "# Recursive Feature Elimination (RFE)"
   ]
  },
  {
   "cell_type": "code",
   "execution_count": null,
   "id": "25120318",
   "metadata": {},
   "outputs": [],
   "source": [
    "ridge = RidgeClassifierCV(**random_search.best_params_)\n",
    "selector = RFE(estimator=ridge, n_features_to_select=5000, step=1)  # Adjust n_features_to_select as needed\n",
    "\n",
    "pipeline = Pipeline([\n",
    "    ('rfe', selector),\n",
    "    ('ridge', ridge)\n",
    "])\n",
    "\n",
    "pipeline.fit(X_train_features, y_train)\n",
    "y_pred = pipeline.predict(X_test_features)\n",
    "balanced_accuracy = balanced_accuracy_score(y_test, y_pred)\n",
    "\n",
    "print(f\"Balanced accuracy after RFE: {balanced_accuracy}\")"
   ]
  }
 ],
 "metadata": {
  "kernelspec": {
   "display_name": "py39",
   "language": "python",
   "name": "py39"
  },
  "language_info": {
   "codemirror_mode": {
    "name": "ipython",
    "version": 3
   },
   "file_extension": ".py",
   "mimetype": "text/x-python",
   "name": "python",
   "nbconvert_exporter": "python",
   "pygments_lexer": "ipython3",
   "version": "3.9.19"
  }
 },
 "nbformat": 4,
 "nbformat_minor": 5
}
