{
 "cells": [
  {
   "cell_type": "code",
   "execution_count": null,
   "id": "b44d0957",
   "metadata": {},
   "outputs": [],
   "source": [
    "import sys\n",
    "import os"
   ]
  },
  {
   "cell_type": "code",
   "execution_count": null,
   "id": "a254211b",
   "metadata": {},
   "outputs": [],
   "source": [
    "os.chdir('./ConvTran-main')"
   ]
  },
  {
   "cell_type": "code",
   "execution_count": null,
   "id": "e3331f8f",
   "metadata": {
    "scrolled": true
   },
   "outputs": [],
   "source": [
    "# Set the arguments as if they are coming from the command line\n",
    "sys.argv = [\n",
    "    'main.py',\n",
    "    '--data_path', 'Dataset/Segmentation/ActivityRecognition/',\n",
    "    '--output_dir', 'Results',\n",
    "    '--Norm', 'False',\n",
    "    '--val_ratio', '0.2',\n",
    "    '--print_interval', '10',\n",
    "    '--Net_Type', 'C-T',\n",
    "    '--emb_size', '16',\n",
    "    '--dim_ff', '256',\n",
    "    '--num_heads', '8',\n",
    "    '--Fix_pos_encode', 'tAPE',\n",
    "    '--Rel_pos_encode', 'eRPE',\n",
    "    '--epochs', '1',\n",
    "    '--batch_size', '16',\n",
    "    '--lr', '1e-3',\n",
    "    '--dropout', '0.01',\n",
    "    '--val_interval', '2',\n",
    "    '--key_metric', 'accuracy',\n",
    "    '--gpu', '0',\n",
    "    '--seed', '1234'\n",
    "]\n",
    "\n",
    "# Run the script\n",
    "%run main.py"
   ]
  }
 ],
 "metadata": {
  "kernelspec": {
   "display_name": "py39",
   "language": "python",
   "name": "py39"
  },
  "language_info": {
   "codemirror_mode": {
    "name": "ipython",
    "version": 3
   },
   "file_extension": ".py",
   "mimetype": "text/x-python",
   "name": "python",
   "nbconvert_exporter": "python",
   "pygments_lexer": "ipython3",
   "version": "3.9.19"
  }
 },
 "nbformat": 4,
 "nbformat_minor": 5
}
